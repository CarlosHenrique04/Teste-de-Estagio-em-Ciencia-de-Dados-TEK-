{
 "cells": [
  {
   "cell_type": "code",
   "execution_count": 79,
   "id": "3e84b09b-0148-4edd-9fab-562a8f10f868",
   "metadata": {},
   "outputs": [],
   "source": [
    "# Importanto bibliotecas\n",
    "import pandas as pd\n",
    "import numpy as np\n",
    "from datetime import datetime, timedelta"
   ]
  },
  {
   "cell_type": "code",
   "execution_count": 80,
   "id": "8028e472-afda-4b76-b9cf-9c17ed0531c6",
   "metadata": {},
   "outputs": [],
   "source": [
    "# Carregando dados dos arquivos CSV\n",
    "vendas = pd.read_csv('vendas.csv')\n",
    "atendimento = pd.read_csv('atendimento.csv')"
   ]
  },
  {
   "cell_type": "code",
   "execution_count": 81,
   "id": "b9abc0c9-8703-40fa-b081-b46eca9e2909",
   "metadata": {},
   "outputs": [
    {
     "name": "stdout",
     "output_type": "stream",
     "text": [
      "    id_venda  id_cliente  valor_venda  data_venda\n",
      "0          1         101       150.75  2024-09-01\n",
      "1          2         102        85.50  2024-09-02\n",
      "2          3         101       120.00  2024-09-03\n",
      "3          4         103       250.00  2024-09-05\n",
      "4          5         104        90.00  2024-09-06\n",
      "5          6         102       150.00  2024-09-07\n",
      "6          7         105       200.25  2024-09-08\n",
      "7          8         106        75.50  2024-09-10\n",
      "8          9         101       180.00  2024-09-11\n",
      "9         10         103       130.75  2024-09-12\n",
      "10        11         102        85.00  2024-09-13\n",
      "11        12         105       220.00  2024-09-14\n",
      "12        13         106       110.00  2024-09-15\n",
      "    id_atendimento  id_cliente data_atendimento                  motivo\n",
      "0                1         101       2024-09-01      Produto defeituoso\n",
      "1                2         102       2024-09-02        Entrega atrasada\n",
      "2                3         103       2024-09-02  Problema com pagamento\n",
      "3                4         104       2024-09-05      Produto defeituoso\n",
      "4                5         101       2024-09-06        Entrega atrasada\n",
      "5                6         106       2024-09-07  Problema com pagamento\n",
      "6                7         105       2024-09-08    Dúvida sobre produto\n",
      "7                8         103       2024-09-10      Produto defeituoso\n",
      "8                9         101       2024-09-11  Problema com pagamento\n",
      "9               10         102       2024-09-12        Entrega atrasada\n",
      "10              11         104       2024-09-13      Produto defeituoso\n",
      "11              12         106       2024-09-15    Dúvida sobre produto\n"
     ]
    }
   ],
   "source": [
    "# Visualizando os dados\n",
    "print(vendas)\n",
    "print(atendimento)"
   ]
  },
  {
   "cell_type": "code",
   "execution_count": 82,
   "id": "56c1a3f7-d944-4ca1-b6af-b0d7e7e2a48f",
   "metadata": {},
   "outputs": [
    {
     "name": "stdout",
     "output_type": "stream",
     "text": [
      "Valor total de vendas realizadas: R$ 1847.75\n"
     ]
    }
   ],
   "source": [
    "# 1. Qual é o valor total de vendas realizadas?\n",
    "# Calculando o valor total das vendas realizadas, somando todos os valores da coluna valor_venda\n",
    "totalVendas = vendas['valor_venda'].sum()\n",
    "print(f\"Valor total de vendas realizadas: R$ {total_vendas:.2f}\")"
   ]
  },
  {
   "cell_type": "code",
   "execution_count": 83,
   "id": "9a1219eb-42d4-486d-82fc-5c6a342cf8cd",
   "metadata": {},
   "outputs": [
    {
     "name": "stdout",
     "output_type": "stream",
     "text": [
      "Cliente com maior número de compras: 101 (Total de compras: 3)\n"
     ]
    }
   ],
   "source": [
    "# 2. Qual é o cliente com o maior número de compras?\n",
    "# Conta o número de compras de cada cliente na coluna id_cliente e obtém o ID do cliente com o maior número de compras usando idxmax().\n",
    "clienteMaisCompras = vendas['id_cliente'].value_counts().idxmax()\n",
    "# Conta o número de compras de cada cliente e obtém o total de compras do cliente que fez o maior número de compras usando max().\n",
    "comprasClienteMaisCompras = vendas['id_cliente'].value_counts().max()\n",
    "# Exibe o ID do cliente com o maior número de compras e o total de compras realizadas por ele.\n",
    "print(f\"Cliente com maior número de compras: {clienteMaisCompras} (Total de compras: {comprasClienteMaisCompras})\")"
   ]
  },
  {
   "cell_type": "code",
   "execution_count": 86,
   "id": "79e93827-9a56-4d82-bc8e-ac14ef081982",
   "metadata": {},
   "outputs": [
    {
     "name": "stdout",
     "output_type": "stream",
     "text": [
      "Atendimentos realizados nos últimos 30 dias a partir da última data registrada: 12\n"
     ]
    }
   ],
   "source": [
    "# 3. Quantos atendimentos foram realizados nos últimos 30 dias?\n",
    "# Converte a coluna data_atendimento para o formato datetime, se ainda não estiver no formato correto.\n",
    "atendimento['data_atendimento'] = pd.to_datetime(atendimento['data_atendimento'])\n",
    "# Define a data de referência como a última data presente no DataFrame de atendimento.\n",
    "ultimaData = atendimento['data_atendimento'].max()\n",
    "# Estabelece a data limite como 30 dias antes da última data de atendimento registrada.\n",
    "dataLimite = ultimaData - timedelta(days=30)\n",
    "# Filtra o DataFrame atendimento para contar quantos atendimentos ocorreram nos 30 dias anteriores à última data registrada.\n",
    "atendimentosUltimosDias = atendimento[(atendimento['data_atendimento'] <= ultimaData) & (atendimento['data_atendimento'] >= dataLimite)].shape[0]\n",
    "print(f\"Atendimentos realizados nos últimos 30 dias a partir da última data registrada: {atendimentosUltimosDias}\")"
   ]
  },
  {
   "cell_type": "code",
   "execution_count": 85,
   "id": "f97398e6-57e7-40d6-bf10-5f9c8cde6ca4",
   "metadata": {},
   "outputs": [
    {
     "name": "stdout",
     "output_type": "stream",
     "text": [
      "Motivo mais comum nos atendimentos: Produto defeituoso\n"
     ]
    }
   ],
   "source": [
    "# 4. Qual é o motivo mais comum nos atendimentos?\n",
    "# Encontra o motivo que mais se repeti na coluna motivo, o método .mode() retorna o valor mais frequente (moda) e [0] seleciona o primeiro valor,\n",
    "# caso existam múltiplos motivos com a mesma frequência.\n",
    "motivoMaisComum = atendimento['motivo'].mode()[0]\n",
    "print(f\"Motivo mais comum nos atendimentos: {motivoMaisComum}\")"
   ]
  },
  {
   "cell_type": "code",
   "execution_count": null,
   "id": "cf6d76a3-48fa-4af7-88bd-c8215490747f",
   "metadata": {},
   "outputs": [],
   "source": []
  }
 ],
 "metadata": {
  "kernelspec": {
   "display_name": "Python 3 (ipykernel)",
   "language": "python",
   "name": "python3"
  },
  "language_info": {
   "codemirror_mode": {
    "name": "ipython",
    "version": 3
   },
   "file_extension": ".py",
   "mimetype": "text/x-python",
   "name": "python",
   "nbconvert_exporter": "python",
   "pygments_lexer": "ipython3",
   "version": "3.12.4"
  }
 },
 "nbformat": 4,
 "nbformat_minor": 5
}
